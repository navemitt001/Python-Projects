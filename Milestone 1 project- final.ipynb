{
 "cells": [
  {
   "cell_type": "code",
   "execution_count": 7,
   "metadata": {},
   "outputs": [],
   "source": [
    "from IPython.display import clear_output"
   ]
  },
  {
   "cell_type": "code",
   "execution_count": 8,
   "metadata": {},
   "outputs": [],
   "source": [
    "def display_board(disp_dict):\n",
    "    '''\n",
    "    DOCSTRING: displays the board as it pans out along with a positional board\n",
    "    '''\n",
    "    print ( \"Current Board      Positions Board\")\n",
    "#    print (f\"   |   |                |   |   \")\n",
    "    print (f\" {disp_dict.get('7')} | {disp_dict.get('8')} | {disp_dict.get('9')}            7 | 8 | 9 \")             \n",
    "#    print (f\"   |   |                |   |   \")\n",
    "    print ( \"-----------          -----------\")\n",
    "#    print (f\"   |   |                |   |   \")\n",
    "    print (f\" {disp_dict.get('4')} | {disp_dict.get('5')} | {disp_dict.get('6')}            4 | 5 | 6 \")\n",
    "#    print (f\"   |   |                |   |   \")\n",
    "    print ( \"-----------          -----------\")\n",
    "#    print (f\"   |   |                |   |   \")\n",
    "    print (f\" {disp_dict.get('1')} | {disp_dict.get('2')} | {disp_dict.get('3')}            1 | 2 | 3 \")             \n",
    "#    print (f\"   |   |                |   |   \")\n"
   ]
  },
  {
   "cell_type": "code",
   "execution_count": 9,
   "metadata": {},
   "outputs": [],
   "source": [
    "def test_input(ipt_pos,p1_lst,p2_lst,p_dict):\n",
    "    '''\n",
    "    DOCSTRING: tests wheter the input is valid and position is not occupied by any player already\n",
    "    '''\n",
    "    flag = True\n",
    "    if str(ipt_pos) in [\"1\",\"2\",\"3\",\"4\",\"5\",\"6\",\"7\",\"8\",\"9\"]:\n",
    "        if (str(ipt_pos) in p1_lst):\n",
    "            print (f\"Position already occupied by player {p_dict['1']}\")\n",
    "            flag = False\n",
    "        elif (str(ipt_pos) in p2_lst):\n",
    "            print (f\"Position already occupied by player {p_dict['2']}\")\n",
    "            flag = False\n",
    "    else:\n",
    "        print (\"Incorrect input. Please enter again\")\n",
    "        flag = False\n",
    "    return flag"
   ]
  },
  {
   "cell_type": "code",
   "execution_count": 10,
   "metadata": {},
   "outputs": [],
   "source": [
    "def test_winner(p_lst): # player's \n",
    "    '''\n",
    "    DOCSTRING: tests whether the input results in winner or a draw\n",
    "    INPUT: List of positions occupied by a player and the complete list of positions\n",
    "    OUTPUT: Returns \"Winner\", \"Draw\"\n",
    "    '''\n",
    "    win_pos = [(\"1\",\"2\",\"3\"),(\"4\",\"5\",\"6\"),(\"7\",\"8\",\"9\"),(\"1\",\"4\",\"7\"),(\"2\",\"5\",\"8\"),(\"3\",\"6\",\"9\"),(\"3\",\"5\",\"7\"),(\"1\",\"5\",\"9\")]\n",
    "    flag = False\n",
    "    for wp in win_pos:\n",
    "        for k in range(3):\n",
    "            if str(wp[k]) in p_lst:\n",
    "                flag = True\n",
    "            else:\n",
    "                flag = False\n",
    "                break\n",
    "        if flag == True:\n",
    "            print (\"We have a winner\")\n",
    "            return flag\n",
    "\n",
    "    return flag"
   ]
  },
  {
   "cell_type": "code",
   "execution_count": 11,
   "metadata": {},
   "outputs": [],
   "source": [
    "def anthr_game():\n",
    "    anthr_play = input(\"Do you wish to play again? Y/N :\")\n",
    "    return (anthr_play.upper() == \"Y\")"
   ]
  },
  {
   "cell_type": "code",
   "execution_count": 12,
   "metadata": {},
   "outputs": [
    {
     "name": "stdout",
     "output_type": "stream",
     "text": [
      "Current Board      Positions Board\n",
      " O |   | X            7 | 8 | 9 \n",
      "-----------          -----------\n",
      " O | O |              4 | 5 | 6 \n",
      "-----------          -----------\n",
      " X | X | X            1 | 2 | 3 \n",
      "n is the winner!\n"
     ]
    },
    {
     "name": "stdin",
     "output_type": "stream",
     "text": [
      "Do you wish to play again? Y/N : 0\n"
     ]
    }
   ],
   "source": [
    "# Main Body of code\n",
    "\n",
    "p_dict = {\"1\":\"A\",\"2\":\"B\"} #player names\n",
    "for x in p_dict:    \n",
    "    p_dict[x] = str(input(f\"Please enter name of player {x}: \")) #name of player A\n",
    "\n",
    "play_on = True # flag to determine if we wish to play another game\n",
    "while play_on:\n",
    "    disp_dict = {'1':\" \",'2':\" \",'3':\" \",'4':\" \",'5':\" \",'6':\" \",'7':\" \",'8':\" \",'9':\" \"}\n",
    "    play_end = False # flag to determine if play can be stopped\n",
    "    brd_lst =[[],[]] # board positions filled\n",
    "    p = int(input(f\"Who goes first? Enter 1 for {p_dict['1']} or 2 for {p_dict['2']} or 0 to end: \"))\n",
    "    ipt_flag = False #flag to check if the input is correct : 1 or 2 or 0\n",
    "    while not(ipt_flag):\n",
    "        if p in [1,2]:\n",
    "            ipt_flag = True\n",
    "        elif p == 0:\n",
    "            play_end = True\n",
    "            break\n",
    "        else:\n",
    "            p = int(input(f\"Wrong input! Please enter 1 for {p_dict['1']} or 2 for {p_dict['2']} or 0 to end: \"))\n",
    "    if play_end:\n",
    "        print(\"Thanks for playing. Good bye!\")\n",
    "        break\n",
    "    if p == 1: \n",
    "        p1 = True  #player1 flag\n",
    "        p2 = False #player2 flag\n",
    "    else:\n",
    "        p1 = False #player1 flag\n",
    "        p2 = True  #player2 flag\n",
    "    while not(play_end):\n",
    "        input_flag = False\n",
    "        clear_output()\n",
    "        display_board(disp_dict)\n",
    "        while not(input_flag):\n",
    "            if p1:\n",
    "                pos = input(f\"{p_dict['1']} please select your position from available positions: \")\n",
    "                #print (pos)\n",
    "                input_flag = test_input(pos,brd_lst[0],brd_lst[1],p_dict)\n",
    "            else:\n",
    "                pos = input(f\"{p_dict['2']} please select your position from available positions: \")\n",
    "                #print (pos)\n",
    "                input_flag = test_input(pos,brd_lst[0],brd_lst[1],p_dict)\n",
    "        if p1:\n",
    "            p1 = False\n",
    "            p2 = True\n",
    "            brd_lst[0].append(pos)\n",
    "            play_end = test_winner(brd_lst[0])\n",
    "        else:\n",
    "            p2 = False\n",
    "            p1 = True\n",
    "            brd_lst[1].append(pos)\n",
    "            play_end = test_winner(brd_lst[1])\n",
    "            #print (brd_lst)\n",
    "        if (len(brd_lst[0]) + len(brd_lst[1]))%2 ==0:\n",
    "            disp_dict[pos] = \"O\"\n",
    "        else:\n",
    "            disp_dict[pos] = \"X\"\n",
    "\n",
    "        \n",
    "        #input(\"press enter\")\n",
    "        if play_end:\n",
    "            clear_output()\n",
    "            display_board(disp_dict)\n",
    "            if p1:\n",
    "                print (f\"{p_dict['2']} is the winner!\") # because the flag for player has been reversed previously\n",
    "                play_on = anthr_game()\n",
    "                break\n",
    "            else:\n",
    "                print (f\"{p_dict['1']} is the winner!\") # because the flag for player has been reversed previously\n",
    "                play_on = anthr_game()\n",
    "                break\n",
    "        elif len(brd_lst[0]) + len(brd_lst[1]) == 9:  \n",
    "            clear_output()\n",
    "            display_board(disp_dict)\n",
    "            print (\"It is a draw\")\n",
    "            play_on = anthr_game()\n",
    "            break\n",
    "            "
   ]
  }
 ],
 "metadata": {
  "kernelspec": {
   "display_name": "Python 3",
   "language": "python",
   "name": "python3"
  },
  "language_info": {
   "codemirror_mode": {
    "name": "ipython",
    "version": 3
   },
   "file_extension": ".py",
   "mimetype": "text/x-python",
   "name": "python",
   "nbconvert_exporter": "python",
   "pygments_lexer": "ipython3",
   "version": "3.7.6"
  }
 },
 "nbformat": 4,
 "nbformat_minor": 4
}
